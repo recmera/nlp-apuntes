{
 "cells": [
  {
   "cell_type": "markdown",
   "id": "02b4d1c4",
   "metadata": {},
   "source": [
    "# ¿Qué es Pipeline? \n",
    "\n",
    "Si te preguntaran cómo construir una aplicación, lo más probable sería que empieces con la toma de requisitos. De esta forma, descomponerías el problema en varios subproblemas. Luego, irías resolviendo cada subproblema paso a paso para llegar así al tan deseado despliegue de tu aplicación. En el contexto de los modelos que involucren el procesamiento del lenguaje también ocurre esto.    \n",
    "\n",
    "**Un pipeline de NLP no es más que la serie de pasos involucrados para construir cualquier modelo de NLP.**     \n",
    "Estos pasos comunmente están en todos los proyectos de NLP, así que tiene sentido estudiarlos. Entender estos procedimientos nos permitirá adentrarnos a la resolución de cualquier problema de NLP.\n",
    "\n",
    "Hoy en día, los componentes principales de un pipeline genérico para el desarrollo de sistemas NLP son los siguientes:\n",
    "1. Adquisición de datos\n",
    "2. Limpieza de texto\n",
    "3. Preprocesamiento\n",
    "4. Extracción de características o Feature Engineering\n",
    "5. Modelamiento\n",
    "6. Evaluación\n",
    "7. Despliegue\n",
    "8. Monitoreo y actualización del modelo\n",
    "\n",
    "</br></br>\n",
    "<img src=\"https://miro.medium.com/max/966/1*rJQVqDjbhI3k22lHqa4dFw.png\" width=\"500\"/>\n",
    "</br></br>\n",
    "\n",
    "El primer paso en el proceso de desarrollo de cualquier sistema NLP es recolectar la información relevante para cierta tarea. Aunque se estuviera construyendo un sistema basado en reglas, igual necesitaríamos algunos datos para diseñar y testear nuestras reglas. Estos datos que obtenemos rara vez están limpios, aquí es donde la limpieza de texto entra en juego. Luego de la limpieza, los datos de texto suelen presentar ciertas variaciones y para trabajar con ellos es necesario convertirlos en su forma canónica. Esto es hecho en la etapa de preprocesamiento, seguido por la etapa de extracción de características donde tallamos los indicadores que son más adecuados para la tarea en cuestión. Estos indicadores se convierten a un formato comprensible mediante algoritmos de modelado. Luego viene la fase de modelado y evaluación, donde construimos uno o más modelos y los comparamos y contrastamos utilizando métricas de evaluación relevantes. Una vez elegido el mejor modelo entre los evaluados, avanzamos hacia el despliegue de este modelo en producción. Por último, supervisamos periódicamente el rendimiento del modelo y, si es necesario, lo actualizamos para mantener su rendimiento.\n",
    "\n",
    "Tenga en cuenta que, en el mundo real, es posible que el proceso no siempre sea lineal, como se muestra en el pipeline de la figura; a menudo implica ir y venir entre pasos individuales (por ejemplo, entre extracción de características y modelado, modelado y evaluación, etc.).\n",
    "Además, hay bucles intermedios que normalmente van desde la evaluación hasta el preprocesamiento, extracción de características, el modelado y de regreso a la evaluación. Este también es un ciclo general que va desde el monitoreo hasta la adquisición de datos, pero este ciclo ocurre a nivel de proyecto.\n",
    "\n",
    "También tenga en cuenta que los procedimientos exactos paso a paso pueden depender de la tarea específica en cuestión. Por ejemplo, un sistema de clasificación de texto puede requerir un paso de extracción de características diferente en comparación con un sistema de resumen de texto. Además, dependiendo de la fase del proyecto, diferentes pasos pueden tomar diferentes cantidades de tiempo. En las fases iniciales, la mayoría del tiempo es usado en el modelamiento y evaluación, mientras que cuando ya se cuenta con un modelo robusto la extracción de características puede tomarnos más tiempo."
   ]
  },
  {
   "cell_type": "code",
   "execution_count": null,
   "id": "fffbf896",
   "metadata": {},
   "outputs": [],
   "source": []
  }
 ],
 "metadata": {
  "kernelspec": {
   "display_name": "Python 3 (ipykernel)",
   "language": "python",
   "name": "python3"
  },
  "language_info": {
   "codemirror_mode": {
    "name": "ipython",
    "version": 3
   },
   "file_extension": ".py",
   "mimetype": "text/x-python",
   "name": "python",
   "nbconvert_exporter": "python",
   "pygments_lexer": "ipython3",
   "version": "3.8.10"
  }
 },
 "nbformat": 4,
 "nbformat_minor": 5
}

{
 "cells": [
  {
   "cell_type": "markdown",
   "id": "4e9ebeda",
   "metadata": {},
   "source": [
    "## Pipeline para construir sistemas de clasificación de texto\n",
    "\n",
    "### Un clasificador sin pipeline\n",
    "### Usando API's "
   ]
  }
 ],
 "metadata": {
  "kernelspec": {
   "display_name": "Python 3 (ipykernel)",
   "language": "python",
   "name": "python3"
  },
  "language_info": {
   "codemirror_mode": {
    "name": "ipython",
    "version": 3
   },
   "file_extension": ".py",
   "mimetype": "text/x-python",
   "name": "python",
   "nbconvert_exporter": "python",
   "pygments_lexer": "ipython3",
   "version": "3.8.10"
  }
 },
 "nbformat": 4,
 "nbformat_minor": 5
}

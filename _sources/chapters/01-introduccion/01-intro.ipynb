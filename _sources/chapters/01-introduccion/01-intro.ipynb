{
 "cells": [
  {
   "cell_type": "markdown",
   "id": "7d4f0dd7",
   "metadata": {},
   "source": [
    "# NLP en el mundo real\n",
    "\n",
    "El lenguaje es el medio de comunicación primario entre humanos desde tiempos inmemoriales, pero los computadores solo pueden procesar datos binarios, entonces ¿Cómo hacemos que las máquinas puedan entender nuestro lenguaje rico en redundancias, abstracciones y metáforas? Es aquí donde el procesamiento natural del lenguaje (NLP) entra en juego. NLP es un área de las ciencias de la computación que busca mediante métodos analizar, modelar y entender el lenguaje humano. \n",
    "\n",
    "Algunas tareas y aplicaciones de NLP son las siguientes:\n",
    "\n",
    "**Tareas núcleo:**  \n",
    "\n",
    "- Clasificación de texto  \n",
    "- Extracción de información  \n",
    "- Agente conversacional o sistemas de diálogo  \n",
    "- Recuperación de información  \n",
    "- Sistemas de respuesta a preguntas  \n",
    "\n",
    "**Aplicaciones generales:**  \n",
    "\n",
    "- Clasificación de correos spam  \n",
    "- Extracción de eventos de calendario  \n",
    "- Asistentes personales   \n",
    "- Motores de búsqueda   \n",
    "\n",
    "**Aplicaciones específicas de la industria:**    \n",
    "\n",
    "- Análisis de redes sociales   \n",
    "- Extracción de catálogos de retail   \n",
    "- Análisis de registros médicos   \n",
    "- Análisis financieros   \n",
    "- Extracción de entidades legales   \n",
    "\n"
   ]
  },
  {
   "cell_type": "code",
   "execution_count": null,
   "id": "df22ee22",
   "metadata": {},
   "outputs": [],
   "source": []
  }
 ],
 "metadata": {
  "kernelspec": {
   "display_name": "Python 3 (ipykernel)",
   "language": "python",
   "name": "python3"
  },
  "language_info": {
   "codemirror_mode": {
    "name": "ipython",
    "version": 3
   },
   "file_extension": ".py",
   "mimetype": "text/x-python",
   "name": "python",
   "nbconvert_exporter": "python",
   "pygments_lexer": "ipython3",
   "version": "3.8.10"
  }
 },
 "nbformat": 4,
 "nbformat_minor": 5
}

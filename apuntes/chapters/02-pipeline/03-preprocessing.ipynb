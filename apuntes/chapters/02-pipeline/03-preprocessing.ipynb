{
 "cells": [
  {
   "cell_type": "markdown",
   "id": "e17534f5",
   "metadata": {},
   "source": [
    "# 3. Pre-procesamiento\n",
    "\n",
    "### Preliminares\n",
    "\n",
    "#### Sentence segmentation\n",
    "\n",
    "#### Word tokenization \n",
    "\n",
    "### Pasos frecuentes\n",
    "\n",
    "#### Stemming and lemmatization\n",
    "\n",
    "### Otros\n",
    "\n",
    "#### Text normalization\n",
    "\n",
    "#### Language detection\n",
    "\n",
    "#### Code mixing and transliteration\n",
    "\n",
    "### Avanzados\n",
    " "
   ]
  }
 ],
 "metadata": {
  "kernelspec": {
   "display_name": "Python 3 (ipykernel)",
   "language": "python",
   "name": "python3"
  },
  "language_info": {
   "codemirror_mode": {
    "name": "ipython",
    "version": 3
   },
   "file_extension": ".py",
   "mimetype": "text/x-python",
   "name": "python",
   "nbconvert_exporter": "python",
   "pygments_lexer": "ipython3",
   "version": "3.8.10"
  }
 },
 "nbformat": 4,
 "nbformat_minor": 5
}

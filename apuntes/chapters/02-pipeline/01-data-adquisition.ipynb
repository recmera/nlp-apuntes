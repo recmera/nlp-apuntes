{
 "cells": [
  {
   "cell_type": "markdown",
   "id": "02b4d1c4",
   "metadata": {},
   "source": [
    "\n",
    "# 1. Adquisición de datos\n",
    "\n",
    "Los datos son el corazón de cualquir sistema de machine learning. En la mayoría de los proyectos industriales, son los datos el real cuello de botella para el desarrollo de sistemas. ¿Cómo obtenemos datos?\n",
    "\n",
    "- **Utilizando un dataset público:**    \n",
    "    Podemos ver si existen datasets públicos disponibles que podamos aprovechar: \n",
    "    1. [Motor de búsqueda de Google para datasets](https://datasetsearch.research.google.com/)\n",
    "    2. [Kaggle](https://www.kaggle.com/datasets)\n",
    "\n",
    "- Haciendo web scraping\n"
   ]
  },
  {
   "cell_type": "code",
   "execution_count": null,
   "id": "da69819f",
   "metadata": {},
   "outputs": [],
   "source": []
  }
 ],
 "metadata": {
  "kernelspec": {
   "display_name": "Python 3 (ipykernel)",
   "language": "python",
   "name": "python3"
  },
  "language_info": {
   "codemirror_mode": {
    "name": "ipython",
    "version": 3
   },
   "file_extension": ".py",
   "mimetype": "text/x-python",
   "name": "python",
   "nbconvert_exporter": "python",
   "pygments_lexer": "ipython3",
   "version": "3.8.10"
  }
 },
 "nbformat": 4,
 "nbformat_minor": 5
}

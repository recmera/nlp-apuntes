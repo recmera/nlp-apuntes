{
 "cells": [
  {
   "cell_type": "markdown",
   "id": "c7f7809f",
   "metadata": {},
   "source": [
    "# Acercamientos a NLP"
   ]
  }
 ],
 "metadata": {
  "language_info": {
   "name": "python"
  }
 },
 "nbformat": 4,
 "nbformat_minor": 5
}

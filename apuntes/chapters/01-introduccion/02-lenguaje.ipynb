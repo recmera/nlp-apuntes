{
 "cells": [
  {
   "cell_type": "markdown",
   "id": "6dc6aec7",
   "metadata": {},
   "source": [
    "# Qué es lenguaje?\n",
    "\n",
    "El lenguaje es un sistema estructurado de comunicación que involucra combinaciones complejas de sus componentes constituyentes, tales como caracteres, palabras, oraciones, etc. La lingüística es el estudio sistemático del lenguaje. Para estudiar NLP es importante entender algunos conceptos lingüísticos sobre cómo el lenguaje es estructurado.\n",
    "\n",
    "Podemos pensar en el lenguaje humano como un compuesto de cuatro grandes componentes: fonemas, morfemas y lexemas, sintáxis, y finalmente, contexto. Las aplicaciones de NLP necesitan conocer los diferentes niveles de estos componentes básicos, desde los sonidos básicos del lenguaje (fonemas) hasta el texto con algunas expresiones significativas (contexto).\n",
    "\n",
    "<img src=\"https://www.oreilly.com/library/view/practical-natural-language/9781492054047/assets/pnlp_0103.png\" width=\"500\">"
   ]
  },
  {
   "cell_type": "markdown",
   "id": "aa3887b4",
   "metadata": {},
   "source": [
    "## Componentes del lenguaje\n",
    "\n",
    "**Fonemas**\n",
    "\n",
    "Los _fonemas_ son las pequeñas unidades de sonido en el lenguaje. Estas pueden no tener ningún significado por si mismas pero pueden inducir significados cuando se pronuncia en combinación con otros fonemas. Por ejemplo, el inglés estándar tiene 44 fonemas, que son letras o combinaciones de letras. \n",
    "\n",
    "<img src=\"https://www.oreilly.com/library/view/practical-natural-language/9781492054047/assets/pnlp_0104.png\" width=\"600\">\n",
    "\n",
    "Los fonemas son importantes en las aplicaciones relacionadas con el entendimiento del habla, como por ejemplo, el reconocimiento del habla, transcripción habla a texto y conversión texto a habla."
   ]
  },
  {
   "cell_type": "markdown",
   "id": "702ea36e",
   "metadata": {},
   "source": [
    "**Morfemas y lexemas**\n",
    "\n",
    "Los _morfemas_ son las pequeñas unidades del lenguaje que tienen significado. Están formadas por combinaciones de fonemas. No todos los morfemas son palabras, pero todos los prefijos y sufijos son morfemas. Por ejemplo, en la palabra \"multimedia\", \"multi-\" no es una palabra sino que un prefijo que cambia el significado cuando se junta con \"media\". \"Multi-\" es un morfema.\n",
    "\n",
    "<img src=\"https://www.oreilly.com/library/view/practical-natural-language/9781492054047/assets/pnlp_0105.png\" width=\"400\">\n"
   ]
  },
  {
   "cell_type": "code",
   "execution_count": null,
   "id": "9f76071c",
   "metadata": {},
   "outputs": [],
   "source": []
  }
 ],
 "metadata": {
  "kernelspec": {
   "display_name": "Python 3 (ipykernel)",
   "language": "python",
   "name": "python3"
  },
  "language_info": {
   "codemirror_mode": {
    "name": "ipython",
    "version": 3
   },
   "file_extension": ".py",
   "mimetype": "text/x-python",
   "name": "python",
   "nbconvert_exporter": "python",
   "pygments_lexer": "ipython3",
   "version": "3.8.10"
  }
 },
 "nbformat": 4,
 "nbformat_minor": 5
}

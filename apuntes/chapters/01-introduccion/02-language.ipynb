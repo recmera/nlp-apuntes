{
 "cells": [
  {
   "cell_type": "markdown",
   "id": "6dc6aec7",
   "metadata": {},
   "source": [
    "## ¿Qué es el lenguaje?\n",
    "\n",
    "El lenguaje es un sistema estructurado de comunicación que involucra combinaciones complejas de sus componentes constituyentes, tales como caracteres, palabras, oraciones, etc. La lingüística es el estudio sistemático del lenguaje. Para estudiar NLP es importante entender algunos conceptos lingüísticos sobre cómo el lenguaje está estructurado.\n",
    "\n",
    "Podemos pensar en el lenguaje humano como un compuesto de cuatro grandes componentes: **fonemas, morfemas y lexemas, sintaxis**, y finalmente, **contexto**. Las aplicaciones de NLP necesitan conocer los diferentes niveles de estos componentes básicos, desde los sonidos básicos del lenguaje (fonemas) hasta el texto con algunas expresiones significativas (contexto).\n",
    "\n",
    "<center>\n",
    "    <img src=\"https://www.oreilly.com/library/view/practical-natural-language/9781492054047/assets/pnlp_0103.png\" width=\"400\">\n",
    "</center>"
   ]
  },
  {
   "cell_type": "markdown",
   "id": "7c66ea8b",
   "metadata": {},
   "source": [
    "## Componentes del lenguaje\n",
    "\n",
    "### Fonemas\n",
    "\n",
    "Los _fonemas_ son las pequeñas unidades de sonido en el lenguaje. Estas pueden no tener ningún significado por si mismas pero pueden inducir significados cuando se pronuncia en combinación con otros fonemas. Por ejemplo, el inglés estándar tiene 44 fonemas, que son letras o combinaciones de letras. \n",
    "\n",
    "<center>\n",
    "    <img src=\"https://www.oreilly.com/library/view/practical-natural-language/9781492054047/assets/pnlp_0104.png\" width=\"500\">\n",
    "</center>\n",
    "\n",
    "\n",
    "\n",
    "Los fonemas son importantes en las aplicaciones relacionadas con el entendimiento del habla, como por ejemplo, el reconocimiento del habla, transcripción habla a texto y conversión texto a habla."
   ]
  },
  {
   "cell_type": "markdown",
   "id": "5fd2a6d8",
   "metadata": {},
   "source": [
    "### Morfemas y lexemas\n",
    "\n",
    "Los _morfemas_ son las pequeñas unidades del lenguaje que tienen significado. Están formadas por combinaciones de fonemas. No todos los morfemas son palabras, pero todos los prefijos y sufijos son morfemas. Por ejemplo, en la palabra \"multimedia\", \"multi-\" no es una palabra sino que un prefijo que cambia el significado cuando se junta con \"media\". \"Multi-\" es un morfema.\n",
    "\n",
    "<center>\n",
    "    <img src=\"https://www.oreilly.com/library/view/practical-natural-language/9781492054047/assets/pnlp_0105.png\" width=\"400\">\n",
    "</center>\n",
    "\n",
    "Los lexemas son variaciones estructurales de los morfemas relacionados entre sí por el significado. Por ejemplo, \"run\" y \"running\" pertenecen a la misma forma o familia de lexema. El análisis morfológico, que analiza la estructura de las palabras mediante el estudio de sus morfemas y lexemas, es un bloque fundamental de muchas tareas de NLP, como la 'tokenization', el aprendizaje de 'word embeddings' y el 'tagging' de partes del discurso (part-of-speech tagging).\n",
    "\n",
    "\n",
    "### Sintaxis\n",
    "\n",
    "La sintaxis es un conjunto de reglas para construir oraciones gramaticalmente correctas a partir de palabras y frases en un lenguaje. En lingüística, la estructura sintáctica es representada de diferentes formas. Un común acercamiento es representar las oraciones como un árbol.\n",
    "\n",
    "<center>\n",
    "    <img src=\"https://www.nltk.org/book/tree_images/ch08-tree-4.png\" width=\"400\">\n",
    "</center>"
   ]
  },
  {
   "cell_type": "markdown",
   "id": "54ff1537",
   "metadata": {},
   "source": [
    "La sintaxis entrega una estructura jerárquica al lenguaje, con palabras en el nivel más bajo, seguidas de etiquetas como verbos, pronombres, etc., seguidas de frases y terminando con una oración en el nivel más alto. [(Ver más...)](https://en.wikipedia.org/wiki/Phrase_structure_rules)\n",
    "\n",
    "La sintaxis de un lenguaje puede ser muy diferente a la sintaxis de otro lenguaje. A su vez, el acercamiento necesario para procesar un lenguaje es influenciado por su sintaxis. "
   ]
  },
  {
   "cell_type": "markdown",
   "id": "2406627d",
   "metadata": {},
   "source": [
    "### Contexto\n",
    "\n",
    "El contexto es cómo varias partes de un idioma se unen para transmitir una determinado significado. El contexto incluye referencias a largo plazo, conocimiento del mundo y sentido común junto con el significado literal de palabras y frases. El significado de una oración puede cambiar según el contexto, ya que las palabras y frases a veces pueden tener múltiples significados. Generalmente, el contexto se compone de semántica y pragmática. La semántica es el significado directo de las palabras y oraciones sin el contexto externo de la conversación que nos permita inferir el significado implícito. \n",
    "\n",
    "Las tareas complejas de NLP, como la detección de sarcasmo, generación automática de resúmenes (_text summarization_) y el modelado de tópicos (_topic modeling_), son algunas de las tareas que utilizan mucho el contexto.\n",
    "\n",
    "**En resumen: La lingüística es el estudio del lenguaje y, por lo tanto, es un campo de estudio bastante amplio. Las ideas introducidas abarcan solo conceptos básicos para ilustrar el rol de la lingüística en NLP.**"
   ]
  },
  {
   "cell_type": "code",
   "execution_count": null,
   "id": "2b489b3a",
   "metadata": {},
   "outputs": [],
   "source": []
  }
 ],
 "metadata": {
  "kernelspec": {
   "display_name": "Python 3 (ipykernel)",
   "language": "python",
   "name": "python3"
  },
  "language_info": {
   "codemirror_mode": {
    "name": "ipython",
    "version": 3
   },
   "file_extension": ".py",
   "mimetype": "text/x-python",
   "name": "python",
   "nbconvert_exporter": "python",
   "pygments_lexer": "ipython3",
   "version": "3.8.10"
  }
 },
 "nbformat": 4,
 "nbformat_minor": 5
}
